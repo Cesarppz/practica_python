{
  "nbformat": 4,
  "nbformat_minor": 0,
  "metadata": {
    "colab": {
      "name": "Función líneal",
      "provenance": [],
      "collapsed_sections": [],
      "authorship_tag": "ABX9TyOKp8gMt+CrUskGYANYgxYP",
      "include_colab_link": true
    },
    "kernelspec": {
      "name": "python3",
      "display_name": "Python 3"
    }
  },
  "cells": [
    {
      "cell_type": "markdown",
      "metadata": {
        "id": "view-in-github",
        "colab_type": "text"
      },
      "source": [
        "<a href=\"https://colab.research.google.com/github/Cesarppz/practica_python/blob/master/Funci%C3%B3n_l%C3%ADneal.ipynb\" target=\"_parent\"><img src=\"https://colab.research.google.com/assets/colab-badge.svg\" alt=\"Open In Colab\"/></a>"
      ]
    },
    {
      "cell_type": "code",
      "metadata": {
        "colab": {
          "base_uri": "https://localhost:8080/"
        },
        "id": "8xCyabmVAPxI",
        "outputId": "780b506a-eea4-4aa4-d7dc-65a51221754f"
      },
      "source": [
        "import numpy as np\r\n",
        "x= np.array([1,2,3,4,5,6,7,8,9])\r\n",
        "y= np.array([1,3,5,7,9,11,13,15,18])\r\n",
        "\r\n",
        "coeffs = np.polyfit(x,y,1)\r\n",
        "print(coeffs)"
      ],
      "execution_count": null,
      "outputs": [
        {
          "output_type": "stream",
          "text": [
            "[ 2.06666667 -1.22222222]\n"
          ],
          "name": "stdout"
        }
      ]
    },
    {
      "cell_type": "code",
      "metadata": {
        "id": "u03H1dhlBCVR"
      },
      "source": [
        "a = coeffs[0]\r\n",
        "b = coeffs[1]\r\n",
        "est_y = a*x + b "
      ],
      "execution_count": null,
      "outputs": []
    },
    {
      "cell_type": "code",
      "metadata": {
        "colab": {
          "base_uri": "https://localhost:8080/",
          "height": 265
        },
        "id": "83SRHbI_B0Yv",
        "outputId": "76804c9a-42fb-4d2c-9823-68ab5c6fe5bf"
      },
      "source": [
        "import matplotlib.pyplot as plt\r\n",
        "plt.plot(x,est_y)\r\n",
        "plt.scatter(x,y)\r\n",
        "plt.show()"
      ],
      "execution_count": null,
      "outputs": [
        {
          "output_type": "display_data",
          "data": {
            "image/png": "[encoded data removed]",
            "text/plain": [
              "<Figure size 432x288 with 1 Axes>"
            ]
          },
          "metadata": {
            "tags": [],
            "needs_background": "light"
          }
        }
      ]
    }
  ]
}