{
  "nbformat": 4,
  "nbformat_minor": 0,
  "metadata": {
    "colab": {
      "name": "Distribución bonomial",
      "provenance": [],
      "collapsed_sections": [],
      "authorship_tag": "ABX9TyPNnBeki4DVz3i2rTjHsHTj",
      "include_colab_link": true
    },
    "kernelspec": {
      "name": "python3",
      "display_name": "Python 3"
    }
  },
  "cells": [
    {
      "cell_type": "markdown",
      "metadata": {
        "id": "view-in-github",
        "colab_type": "text"
      },
      "source": [
        "<a href=\"https://colab.research.google.com/github/Cesarppz/practica_python/blob/master/Distribuci%C3%B3n_bonomial.ipynb\" target=\"_parent\"><img src=\"https://colab.research.google.com/assets/colab-badge.svg\" alt=\"Open In Colab\"/></a>"
      ]
    },
    {
      "cell_type": "code",
      "metadata": {
        "id": "O7-85-3CFUqw"
      },
      "source": [
        "import numpy as np \r\n",
        "from numpy.random import binomial\r\n",
        "from scipy.stats import binom\r\n",
        "from math import factorial\r\n",
        "import matplotlib.pyplot as plt\r\n",
        " "
      ],
      "execution_count": null,
      "outputs": []
    },
    {
      "cell_type": "code",
      "metadata": {
        "id": "1YHcBWV8dfZT"
      },
      "source": [
        "def my_binomial(k,n,p):\r\n",
        "  return factorial(n)/(factorial(k)*factorial(n-k))*pow(p,k)*pow(1-p,n-k)"
      ],
      "execution_count": null,
      "outputs": []
    },
    {
      "cell_type": "code",
      "metadata": {
        "colab": {
          "base_uri": "https://localhost:8080/"
        },
        "id": "MuecAUoZeKK0",
        "outputId": "36598b39-010c-40f3-b1d2-8a02fb2f16d7"
      },
      "source": [
        "dist = binom(3,0.5) # Se coloca la n y la p separadas por una coma \r\n",
        "dist.pmf(2)# Se coloca la k a buscar \r\n",
        "# Tiene la función de calcular la función binomial directamente."
      ],
      "execution_count": null,
      "outputs": [
        {
          "output_type": "execute_result",
          "data": {
            "text/plain": [
              "0.375"
            ]
          },
          "metadata": {
            "tags": []
          },
          "execution_count": 11
        }
      ]
    },
    {
      "cell_type": "code",
      "metadata": {
        "colab": {
          "base_uri": "https://localhost:8080/"
        },
        "id": "LNAHeWFbfZYr",
        "outputId": "3b4d0804-eb67-49c1-e105-81855d58d2e1"
      },
      "source": [
        "dist.cdf(2)\r\n",
        "#para la distribución acumulada. Es decir calcula los números igual y mennores a dos "
      ],
      "execution_count": null,
      "outputs": [
        {
          "output_type": "execute_result",
          "data": {
            "text/plain": [
              "0.875"
            ]
          },
          "metadata": {
            "tags": []
          },
          "execution_count": 13
        }
      ]
    },
    {
      "cell_type": "code",
      "metadata": {
        "colab": {
          "base_uri": "https://localhost:8080/"
        },
        "id": "SpV60Qiyfrwf",
        "outputId": "4ab417b8-d434-419f-dab5-886e3c30bad7"
      },
      "source": [
        "# Simulación de lamzamientos de moneda equilibrada\r\n",
        "#Ejecutar varias veces para ver el generador aleatorio\r\n",
        "p = 0.5\r\n",
        "n = 3\r\n",
        "binomial(n,p)            #numpy.ramdom"
      ],
      "execution_count": null,
      "outputs": [
        {
          "output_type": "execute_result",
          "data": {
            "text/plain": [
              "1"
            ]
          },
          "metadata": {
            "tags": []
          },
          "execution_count": 19
        }
      ]
    },
    {
      "cell_type": "code",
      "metadata": {
        "id": "UyB2lchshNHw"
      },
      "source": [
        "arr = []\r\n",
        "for _ in range(100):\r\n",
        "  arr.append(binomial(n,p))"
      ],
      "execution_count": null,
      "outputs": []
    },
    {
      "cell_type": "code",
      "metadata": {
        "id": "atvXVAE8hm1V"
      },
      "source": [
        "def plot_histogram(num_trials):\r\n",
        "  values=[0,1,2,3]\r\n",
        "  arr=[]\r\n",
        "  for _ in range(num_trials):\r\n",
        "    arr.append(binomial(n,p))\r\n",
        "  \r\n",
        "  sim = np.unique(arr, return_counts=True)[1]/len(arr)\r\n",
        "  teorica = [binom(3,0.5).pmf(k) for k in values]\r\n",
        "  \r\n",
        "  plt.bar(values, sim, color = \"red\")\r\n",
        "  plt.bar(values,teorica, color=\"blue\" , alpha=0.5)\r\n",
        "  plt.title('{} experimetos'.format(num_trials))\r\n",
        "  plt.show()"
      ],
      "execution_count": null,
      "outputs": []
    },
    {
      "cell_type": "code",
      "metadata": {
        "colab": {
          "base_uri": "https://localhost:8080/"
        },
        "id": "eH3yBWhPiFvo",
        "outputId": "e0805f92-2675-4c43-856c-19d65831e9e6"
      },
      "source": [
        "np.unique(arr, return_counts=True)[1]/len(arr) # Para contar cuantas veces aparece cada lanzamiento| Se toma el primer arreglo y se divide en tre la lista para recibir las probabilidades  "
      ],
      "execution_count": null,
      "outputs": [
        {
          "output_type": "execute_result",
          "data": {
            "text/plain": [
              "array([0.18, 0.35, 0.36, 0.11])"
            ]
          },
          "metadata": {
            "tags": []
          },
          "execution_count": 34
        }
      ]
    },
    {
      "cell_type": "code",
      "metadata": {
        "colab": {
          "base_uri": "https://localhost:8080/"
        },
        "id": "AMpLKbqhk-ue",
        "outputId": "e17d4297-ce9f-46be-f64f-796e61068cd3"
      },
      "source": [
        "values=[0,1,2,3]\r\n",
        "[binom(3,0.5).pmf(k) for k in values]\r\n"
      ],
      "execution_count": null,
      "outputs": [
        {
          "output_type": "execute_result",
          "data": {
            "text/plain": [
              "[0.12500000000000003, 0.375, 0.375, 0.12500000000000003]"
            ]
          },
          "metadata": {
            "tags": []
          },
          "execution_count": 40
        }
      ]
    },
    {
      "cell_type": "code",
      "metadata": {
        "colab": {
          "base_uri": "https://localhost:8080/",
          "height": 1000
        },
        "id": "2NyqaZDnmxfP",
        "outputId": "d7978ba3-b4e6-41f2-a1c4-3340c4818e4e"
      },
      "source": [
        "plot_histogram(20)\r\n",
        "plot_histogram(200)\r\n",
        "plot_histogram(2000)\r\n",
        "plot_histogram(1000000)"
      ],
      "execution_count": null,
      "outputs": [
        {
          "output_type": "display_data",
          "data": {
            "image/png": "[encoded data removed]",
            "text/plain": [
              "<Figure size 432x288 with 1 Axes>"
            ]
          },
          "metadata": {
            "tags": [],
            "needs_background": "light"
          }
        },
        {
          "output_type": "display_data",
          "data": {
            "image/png": "[encoded data removed]",
            "text/plain": [
              "<Figure size 432x288 with 1 Axes>"
            ]
          },
          "metadata": {
            "tags": [],
            "needs_background": "light"
          }
        },
        {
          "output_type": "display_data",
          "data": {
            "image/png": "[encoded data removed]",
            "text/plain": [
              "<Figure size 432x288 with 1 Axes>"
            ]
          },
          "metadata": {
            "tags": [],
            "needs_background": "light"
          }
        },
        {
          "output_type": "display_data",
          "data": {
            "image/png": "[encoded data removed]",
            "text/plain": [
              "<Figure size 432x288 with 1 Axes>"
            ]
          },
          "metadata": {
            "tags": [],
            "needs_background": "light"
          }
        }
      ]
    }
  ]
}