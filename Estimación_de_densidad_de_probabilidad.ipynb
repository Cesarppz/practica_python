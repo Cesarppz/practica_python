{
  "nbformat": 4,
  "nbformat_minor": 0,
  "metadata": {
    "colab": {
      "name": "Estimación de densidad de probabilidad",
      "provenance": [],
      "authorship_tag": "ABX9TyMSo/bTPglD1vplhvqrfycS",
      "include_colab_link": true
    },
    "kernelspec": {
      "name": "python3",
      "display_name": "Python 3"
    }
  },
  "cells": [
    {
      "cell_type": "markdown",
      "metadata": {
        "id": "view-in-github",
        "colab_type": "text"
      },
      "source": [
        "<a href=\"https://colab.research.google.com/github/Cesarppz/practica_python/blob/master/Estimaci%C3%B3n_de_densidad_de_probabilidad.ipynb\" target=\"_parent\"><img src=\"https://colab.research.google.com/assets/colab-badge.svg\" alt=\"Open In Colab\"/></a>"
      ]
    },
    {
      "cell_type": "code",
      "metadata": {
        "id": "jqlPcQYWPNFf"
      },
      "source": [
        "import numpy as np\r\n",
        "from numpy.random import normal\r\n",
        "import matplotlib.pyplot as plt\r\n",
        "from scipy.stats import norm\r\n",
        "from matplotlib import pyplot"
      ],
      "execution_count": 18,
      "outputs": []
    },
    {
      "cell_type": "code",
      "metadata": {
        "colab": {
          "base_uri": "https://localhost:8080/",
          "height": 265
        },
        "id": "Zsc3kwenSxww",
        "outputId": "4db20b67-fb64-424a-e241-f864dda6b3dc"
      },
      "source": [
        "sample = normal(size=10000) #generador\r\n",
        "plt.hist(sample,bins=30)\r\n",
        "plt.show()"
      ],
      "execution_count": 6,
      "outputs": [
        {
          "output_type": "display_data",
          "data": {
            "image/png": "[encoded data removed]",
            "text/plain": [
              "<Figure size 432x288 with 1 Axes>"
            ]
          },
          "metadata": {
            "tags": [],
            "needs_background": "light"
          }
        }
      ]
    },
    {
      "cell_type": "markdown",
      "metadata": {
        "id": "MG7XQFjcU7R0"
      },
      "source": [
        "## Estimación paramétrica"
      ]
    },
    {
      "cell_type": "code",
      "metadata": {
        "colab": {
          "base_uri": "https://localhost:8080/",
          "height": 265
        },
        "id": "rhefs_xBVOFi",
        "outputId": "f51c4f9e-2538-474b-94d0-f0d8d0baddb9"
      },
      "source": [
        "sample = normal(loc=50, scale=5 ,size=10000) #mu= 50, sigma = 5\r\n",
        "\r\n",
        "mu = sample.mean()\r\n",
        "sigma = sample.std()\r\n",
        "dist= norm(mu,sigma)\r\n",
        "values = [value for value in range(30,70)]\r\n",
        "probabilidades = [dist.pdf(value) for value in values]\r\n",
        "\r\n",
        "pyplot.hist(sample,bins=30,density=True)\r\n",
        "pyplot.plot(values,probabilidades)\r\n",
        "pyplot.show()"
      ],
      "execution_count": 27,
      "outputs": [
        {
          "output_type": "display_data",
          "data": {
            "image/png": "[encoded data removed]",
            "text/plain": [
              "<Figure size 432x288 with 1 Axes>"
            ]
          },
          "metadata": {
            "tags": [],
            "needs_background": "light"
          }
        }
      ]
    },
    {
      "cell_type": "markdown",
      "metadata": {
        "id": "6SOqbPmZbJSi"
      },
      "source": [
        "## Estimación no paramétrica\r\n",
        "\r\n",
        "Kernel Density estimation\r\n",
        "\r\n",
        "[parámetro de suavizado]: smoothing parameter\r\n",
        "\r\n",
        "[función base]: basis function\r\n",
        "https://scikit-learn.org/stable/modules/density.html"
      ]
    },
    {
      "cell_type": "code",
      "metadata": {
        "colab": {
          "base_uri": "https://localhost:8080/"
        },
        "id": "uTU95FeYbSP_",
        "outputId": "d21a5ad7-ff51-4f0b-830c-81e6024db642"
      },
      "source": [
        "from numpy import hstack\r\n",
        "from sklearn.neighbors import KernelDensity\r\n",
        "\r\n",
        "#contruimos una distribución binomial \r\n",
        "sample1 = normal(loc=20,scale=5,size=300)\r\n",
        "sample2 = normal(loc=40,scale=5,size=700)\r\n",
        "sample = hstack((sample1,sample2)) #Junta las dos destribuciones\r\n",
        "\r\n",
        "model= KernelDensity(bandwidth=2, kernel='gaussian')  #suavdad = bandwidth , tipo de gráfico kernel\r\n",
        "sample = sample.reshape(len(sample),1)  #Ajustar la gráfica\r\n",
        "model.fit(sample)  #Ajustar los datos que le dimos en model "
      ],
      "execution_count": 34,
      "outputs": [
        {
          "output_type": "execute_result",
          "data": {
            "text/plain": [
              "KernelDensity(algorithm='auto', atol=0, bandwidth=2, breadth_first=True,\n",
              "              kernel='gaussian', leaf_size=40, metric='euclidean',\n",
              "              metric_params=None, rtol=0)"
            ]
          },
          "metadata": {
            "tags": []
          },
          "execution_count": 34
        }
      ]
    },
    {
      "cell_type": "code",
      "metadata": {
        "colab": {
          "base_uri": "https://localhost:8080/",
          "height": 265
        },
        "id": "kXjmzlhfesc0",
        "outputId": "7fdc6b37-8efa-4d83-eabb-2f7d1c646e1e"
      },
      "source": [
        "values = np.asarray([value for value in range(1, 60)])\r\n",
        "values = values.reshape((len(values), 1))\r\n",
        "probabilities = model.score_samples(values) #probabilidad logarítmica\r\n",
        "probabilities = np.exp(probabilities)  # inversión de probabilidad\r\n",
        "\r\n",
        "pyplot.hist(sample, bins=50, density=True) \r\n",
        "pyplot.plot(values[:], probabilities)\r\n",
        "pyplot.show()"
      ],
      "execution_count": 39,
      "outputs": [
        {
          "output_type": "display_data",
          "data": {
            "image/png": "[encoded data removed]",
            "text/plain": [
              "<Figure size 432x288 with 1 Axes>"
            ]
          },
          "metadata": {
            "tags": [],
            "needs_background": "light"
          }
        }
      ]
    }
  ]
}